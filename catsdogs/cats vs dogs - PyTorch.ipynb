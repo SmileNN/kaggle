{
 "cells": [
  {
   "cell_type": "code",
   "execution_count": 1,
   "metadata": {
    "collapsed": true
   },
   "outputs": [],
   "source": [
    "import torch\n",
    "import torchvision.models as models\n",
    "import torchvision.transforms as transforms\n",
    "import torchvision.datasets as datasets\n",
    "import torch.nn as nn\n",
    "import torch.optim as optim\n",
    "from torch.autograd import Variable\n",
    "import os\n",
    "\n",
    "import time\n",
    "from datetime import timedelta"
   ]
  },
  {
   "cell_type": "markdown",
   "metadata": {},
   "source": [
    "#### Batch size\n",
    "If memory error, reduce the batch_size."
   ]
  },
  {
   "cell_type": "code",
   "execution_count": 2,
   "metadata": {
    "collapsed": true
   },
   "outputs": [],
   "source": [
    "batch_size = 32\n",
    "num_workers = 1"
   ]
  },
  {
   "cell_type": "markdown",
   "metadata": {},
   "source": [
    "#### [ImageFolder](https://github.com/pytorch/vision/blob/master/torchvision/datasets/folder.py)\n",
    "A generic data loader where the samples are arranged in this way:\n",
    "```\n",
    "    root/dog/xxx.png\n",
    "    root/dog/xxy.png\n",
    "    root/dog/xxz.png\n",
    "    root/cat/123.png\n",
    "    root/cat/nsdf3.png\n",
    "    root/cat/asd932_.png\n",
    "```"
   ]
  },
  {
   "cell_type": "code",
   "execution_count": 3,
   "metadata": {
    "collapsed": true
   },
   "outputs": [],
   "source": [
    "# Data loading code\n",
    "datasetsdir = os.path.join('datasets', 'keras')\n",
    "traindir = os.path.join(datasetsdir, 'train')\n",
    "valdir = os.path.join(datasetsdir, 'val')\n",
    "normalize = transforms.Normalize(mean=[0.485, 0.456, 0.406],\n",
    "                                 std=[0.229, 0.224, 0.225])\n",
    "\n",
    "train_loader = torch.utils.data.DataLoader(\n",
    "    datasets.ImageFolder(traindir, transforms.Compose([\n",
    "        transforms.RandomResizedCrop(224),\n",
    "        transforms.RandomHorizontalFlip(),\n",
    "        transforms.ToTensor(),\n",
    "        normalize,\n",
    "    ])),\n",
    "    batch_size=batch_size, shuffle=True,\n",
    "    num_workers=num_workers)\n",
    "\n",
    "val_loader = torch.utils.data.DataLoader(\n",
    "    datasets.ImageFolder(valdir, transforms.Compose([\n",
    "        transforms.Resize(256),\n",
    "        transforms.CenterCrop(224),\n",
    "        transforms.ToTensor(),\n",
    "        normalize,\n",
    "    ])),\n",
    "    batch_size=batch_size, shuffle=False,\n",
    "    num_workers=num_workers)"
   ]
  },
  {
   "cell_type": "markdown",
   "metadata": {},
   "source": [
    "Train + Validation"
   ]
  },
  {
   "cell_type": "code",
   "execution_count": 4,
   "metadata": {
    "collapsed": true
   },
   "outputs": [],
   "source": [
    "def train(model, loader, loss_fn, optimizer, num_epochs = 1):\n",
    "    start_time = time.time()\n",
    "    for epoch in range(num_epochs):\n",
    "        print('Starting epoch %d / %d' % (epoch + 1, num_epochs))\n",
    "        model.train()\n",
    "        batch_start = time.time()\n",
    "        for t, (x, y) in enumerate(loader):\n",
    "            x_var = x.cuda()\n",
    "            y_var = y.cuda()\n",
    "\n",
    "            scores = model(x_var)\n",
    "            \n",
    "            loss = loss_fn(scores, y_var)\n",
    "            if (t + 1) % 100 == 0:\n",
    "                print('t = %d, loss = %.4f, duration = %s' % (t + 1, loss.data[0], timedelta(seconds=time.time() - batch_start)))\n",
    "                batch_start = time.time()\n",
    "\n",
    "            optimizer.zero_grad()\n",
    "            loss.backward()\n",
    "            optimizer.step()\n",
    "    print('duration = %s' % timedelta(seconds=time.time() - start_time))\n",
    "\n",
    "def check_accuracy(model, loader):\n",
    "    num_correct = 0\n",
    "    num_samples = 0\n",
    "    model.eval() # Put the model in test mode (the opposite of model.train(), essentially)\n",
    "    start_time = time.time()\n",
    "    for x, y in loader:\n",
    "        with torch.no_grad():\n",
    "            x_var = x.cuda()\n",
    "\n",
    "            scores = model(x_var)\n",
    "            _, preds = scores.data.cpu().max(1)\n",
    "            num_correct += (preds == y).sum()\n",
    "            num_samples += preds.size(0)\n",
    "    acc = float(num_correct) / num_samples\n",
    "    print('Got %d / %d correct (%.2f)' % (num_correct, num_samples, 100 * acc))\n",
    "    print('duration = %s' % timedelta(seconds=time.time() - start_time))"
   ]
  },
  {
   "cell_type": "markdown",
   "metadata": {},
   "source": [
    "#### [Pre-trained models](https://pytorch.org/docs/master/torchvision/models.html)\n",
    "\n",
    "- [VGG16](https://arxiv.org/abs/1409.1556)\n",
    "- [ResNet34](https://arxiv.org/abs/1512.03385)\n",
    "\n",
    "As always, add one more FC layer or replace the last FC layer with the number of output classes."
   ]
  },
  {
   "cell_type": "code",
   "execution_count": 5,
   "metadata": {
    "collapsed": true
   },
   "outputs": [],
   "source": [
    "def vgg16(pretrained=True):\n",
    "    model = models.vgg16(pretrained=pretrained)\n",
    "    def set_untrainable(layer):\n",
    "        for p in layer.parameters():\n",
    "            p.requires_grad = False\n",
    "\n",
    "    for layer in model.children():\n",
    "        layer.apply(set_untrainable)\n",
    "    model.classifier = nn.Sequential(*(list(model.classifier.children()) + [nn.ReLU(inplace=True), nn.Linear(1000, 2)]))\n",
    "    # del.features = torch.nn.DataParallel(model.features)\n",
    "    model.cuda()\n",
    "    return model\n",
    "    \n",
    "def resnet34(pretrained=True):\n",
    "    model = models.resnet34(pretrained=pretrained)\n",
    "    def set_untrainable(layer):\n",
    "        for p in layer.parameters():\n",
    "            p.requires_grad = False\n",
    "\n",
    "    for layer in model.children():\n",
    "        layer.apply(set_untrainable)\n",
    "    model.fc = nn.Linear(512, 2)\n",
    "    model.cuda()\n",
    "    return model"
   ]
  },
  {
   "cell_type": "markdown",
   "metadata": {},
   "source": [
    "#### ResNet34"
   ]
  },
  {
   "cell_type": "code",
   "execution_count": 6,
   "metadata": {
    "scrolled": false
   },
   "outputs": [
    {
     "name": "stdout",
     "output_type": "stream",
     "text": [
      "Starting epoch 1 / 1\n"
     ]
    },
    {
     "name": "stderr",
     "output_type": "stream",
     "text": [
      "C:\\Users\\chenwu\\Anaconda3\\lib\\site-packages\\ipykernel_launcher.py:15: UserWarning: invalid index of a 0-dim tensor. This will be an error in PyTorch 0.5. Use tensor.item() to convert a 0-dim tensor to a Python number\n",
      "  from ipykernel import kernelapp as app\n"
     ]
    },
    {
     "name": "stdout",
     "output_type": "stream",
     "text": [
      "t = 100, loss = 0.0420, duration = 0:00:18.320041\n",
      "t = 200, loss = 0.1766, duration = 0:00:16.951004\n",
      "t = 300, loss = 0.3686, duration = 0:00:16.651947\n",
      "t = 400, loss = 0.1015, duration = 0:00:16.542998\n",
      "t = 500, loss = 0.1525, duration = 0:00:16.564526\n",
      "t = 600, loss = 0.2674, duration = 0:00:16.559996\n",
      "t = 700, loss = 0.5633, duration = 0:00:16.510028\n",
      "duration = 0:02:02.158538\n",
      "Got 1966 / 2000 correct (98.30)\n",
      "duration = 0:00:12.122000\n"
     ]
    }
   ],
   "source": [
    "model = resnet34()\n",
    "\n",
    "loss_fn = nn.CrossEntropyLoss().cuda()\n",
    "optimizer = optim.Adam([p for p in model.parameters() if p.requires_grad], lr=1e-2)\n",
    "\n",
    "train(model, train_loader, loss_fn, optimizer, num_epochs=1)\n",
    "check_accuracy(model, val_loader)"
   ]
  },
  {
   "cell_type": "markdown",
   "metadata": {},
   "source": [
    "#### [Serialization](https://pytorch.org/docs/master/notes/serialization.html)\n",
    "\n",
    "- Save and load only the model parameters (recommanded):\n",
    "\n",
    "```python\n",
    "    # Save\n",
    "    torch.save(the_model.state_dict(), PATH)\n",
    "    # Load\n",
    "    the_model = TheModelClass(*args, **kwargs)\n",
    "    the_model.load_state_dict(torch.load(PATH))\n",
    "```\n",
    "\n",
    "- Save and load the entire model:\n",
    "\n",
    "```python\n",
    "    # Save\n",
    "    torch.save(the_model, PATH)\n",
    "    # Load\n",
    "    the_model = torch.load(PATH)\n",
    "```"
   ]
  },
  {
   "cell_type": "code",
   "execution_count": 7,
   "metadata": {
    "collapsed": true
   },
   "outputs": [],
   "source": [
    "torch.save(model.state_dict(), 'ResNet34.pth')"
   ]
  },
  {
   "cell_type": "markdown",
   "metadata": {},
   "source": [
    "#### VGG16"
   ]
  },
  {
   "cell_type": "code",
   "execution_count": null,
   "metadata": {},
   "outputs": [
    {
     "name": "stdout",
     "output_type": "stream",
     "text": [
      "Starting epoch 1 / 1\n"
     ]
    },
    {
     "name": "stderr",
     "output_type": "stream",
     "text": [
      "C:\\Users\\chenwu\\Anaconda3\\lib\\site-packages\\ipykernel_launcher.py:15: UserWarning: invalid index of a 0-dim tensor. This will be an error in PyTorch 0.5. Use tensor.item() to convert a 0-dim tensor to a Python number\n",
      "  from ipykernel import kernelapp as app\n"
     ]
    },
    {
     "name": "stdout",
     "output_type": "stream",
     "text": [
      "t = 100, loss = 0.4318, duration = 0:00:47.690118\n",
      "t = 200, loss = 1.0058, duration = 0:00:46.992078\n",
      "t = 300, loss = 0.6812, duration = 0:00:47.146472\n",
      "t = 400, loss = 0.0219, duration = 0:00:47.058553\n",
      "t = 500, loss = 1.0990, duration = 0:00:46.989100\n",
      "t = 600, loss = 0.5853, duration = 0:00:46.923814\n"
     ]
    }
   ],
   "source": [
    "model = vgg16()\n",
    "\n",
    "loss_fn = nn.CrossEntropyLoss().cuda()\n",
    "optimizer = optim.Adam([p for p in model.parameters() if p.requires_grad], lr=1e-2)\n",
    "\n",
    "train(model, train_loader, loss_fn, optimizer, num_epochs=1)\n",
    "check_accuracy(model, val_loader)"
   ]
  },
  {
   "cell_type": "code",
   "execution_count": null,
   "metadata": {
    "collapsed": true
   },
   "outputs": [],
   "source": [
    "torch.save(model.state_dict(), 'vgg16.pth' )"
   ]
  },
  {
   "cell_type": "code",
   "execution_count": null,
   "metadata": {
    "collapsed": true
   },
   "outputs": [],
   "source": []
  }
 ],
 "metadata": {
  "kernelspec": {
   "display_name": "Python 3",
   "language": "python",
   "name": "python3"
  },
  "language_info": {
   "codemirror_mode": {
    "name": "ipython",
    "version": 3
   },
   "file_extension": ".py",
   "mimetype": "text/x-python",
   "name": "python",
   "nbconvert_exporter": "python",
   "pygments_lexer": "ipython3",
   "version": "3.6.1"
  }
 },
 "nbformat": 4,
 "nbformat_minor": 2
}
