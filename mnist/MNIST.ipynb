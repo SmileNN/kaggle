{
 "cells": [
  {
   "cell_type": "code",
   "execution_count": 62,
   "metadata": {},
   "outputs": [
    {
     "name": "stdout",
     "output_type": "stream",
     "text": [
      "The autoreload extension is already loaded. To reload it, use:\n",
      "  %reload_ext autoreload\n"
     ]
    }
   ],
   "source": [
    "import gzip, os, random\n",
    "import matplotlib.pyplot as plt\n",
    "import numpy as np\n",
    "import tensorflow as tf\n",
    "from utils import Progbar\n",
    "import math\n",
    "%matplotlib inline\n",
    "%load_ext autoreload"
   ]
  },
  {
   "cell_type": "markdown",
   "metadata": {},
   "source": [
    "# Load data\n",
    "\n",
    "MNIST can be downloaded [here](http://yann.lecun.com/exdb/mnist/)\n",
    "\n",
    "Training set contains 60, 000 images with labels\n",
    "\n",
    "Testing set contains 10, 000 images with labeels"
   ]
  },
  {
   "cell_type": "code",
   "execution_count": 2,
   "metadata": {},
   "outputs": [
    {
     "name": "stdout",
     "output_type": "stream",
     "text": [
      "(60000, 28, 28, 1)\n",
      "(60000,)\n"
     ]
    }
   ],
   "source": [
    "def load_data(filename, num_images=60000):\n",
    "    #filename = os.path.join('data', 'train-images-idx3-ubyte.gz')\n",
    "    with gzip.open(filename) as bytestream:\n",
    "        bytestream.read(16)\n",
    "        buf = bytestream.read(28 * 28 * num_images)\n",
    "        data = np.frombuffer(buf, dtype=np.uint8).astype(np.float32)\n",
    "        data = data.reshape(num_images, 28, 28, 1)\n",
    "    return data\n",
    "\n",
    "data = load_data(os.path.join('data', 'train-images-idx3-ubyte.gz'))\n",
    "print(data.shape)\n",
    "\n",
    "def load_label(filename, num_images=60000):\n",
    "    #filename = os.path.join('data', 'train-labels-idx1-ubyte.gz')\n",
    "    with gzip.open(filename) as bytestream:\n",
    "        bytestream.read(8)\n",
    "        buf = bytestream.read(num_images)\n",
    "        labels = np.frombuffer(buf, dtype=np.uint8).astype(np.int64)\n",
    "    return labels\n",
    "\n",
    "labels = load_label(filename = os.path.join('data', 'train-labels-idx1-ubyte.gz'))\n",
    "print(labels.shape)"
   ]
  },
  {
   "cell_type": "markdown",
   "metadata": {},
   "source": [
    "# Take a look at one image in the training set"
   ]
  },
  {
   "cell_type": "code",
   "execution_count": 3,
   "metadata": {},
   "outputs": [
    {
     "data": {
      "text/plain": [
       "<matplotlib.image.AxesImage at 0x1f45d8b0c50>"
      ]
     },
     "execution_count": 3,
     "metadata": {},
     "output_type": "execute_result"
    },
    {
     "data": {
      "image/png": "[encoded data removed]",
      "text/plain": [
       "<matplotlib.figure.Figure at 0x1f45d4ae940>"
      ]
     },
     "metadata": {},
     "output_type": "display_data"
    }
   ],
   "source": [
    "img = data[20].reshape(28,28)\n",
    "plt.imshow(img)"
   ]
  },
  {
   "cell_type": "code",
   "execution_count": 4,
   "metadata": {},
   "outputs": [
    {
     "name": "stdout",
     "output_type": "stream",
     "text": [
      "4\n"
     ]
    }
   ],
   "source": [
    "lbl = labels[20]\n",
    "print(lbl)"
   ]
  },
  {
   "cell_type": "markdown",
   "metadata": {},
   "source": [
    "# Randomize the data"
   ]
  },
  {
   "cell_type": "code",
   "execution_count": 5,
   "metadata": {
    "collapsed": true
   },
   "outputs": [],
   "source": [
    "def get_indicis(data_size, batch_size, shuffle=True):\n",
    "    indicis = np.arange(data_size)\n",
    "    if shuffle:\n",
    "        np.random.shuffle(indicis)\n",
    "    for start_idx in range(0, data_size, batch_size):\n",
    "        yield indicis[start_idx : start_idx + batch_size]\n",
    "        \n",
    "def load_mnist_data(data, labels, batch_size, shuffle=True):\n",
    "    data_size = data.shape[0]\n",
    "    for idx in get_indicis(data_size, batch_size, shuffle):\n",
    "        yield data[idx], labels[idx]"
   ]
  },
  {
   "cell_type": "markdown",
   "metadata": {},
   "source": [
    "# Define MNIST training model\n",
    "\n",
    "A simple model:\n",
    "CONV3 - MAX POOL - CONV3 - MAX POOL - FC"
   ]
  },
  {
   "cell_type": "code",
   "execution_count": 116,
   "metadata": {},
   "outputs": [],
   "source": [
    "class MNIST_model(object):\n",
    "    def __init__(self, num_classes, learning_rate=1e-3):\n",
    "        tf.reset_default_graph()\n",
    "        self.num_classes = num_classes\n",
    "        self.lr = learning_rate\n",
    "        self.input_placeholder = None\n",
    "        self.label_placeholder = None\n",
    "        self.training_placeholder = None\n",
    "        self.hist = []\n",
    "        self.build()\n",
    "        \n",
    "    def build(self):\n",
    "        self.add_placeholders()\n",
    "        self.pred = self.add_prediction_op()\n",
    "        self.loss, self.corr, self.acc = self.add_loss_op(self.pred)\n",
    "        self.train_op = self.add_train_op(self.loss)\n",
    "        \n",
    "    def add_placeholders(self):\n",
    "        self.input_placeholder = tf.placeholder(tf.float32, shape=(None, 28, 28, 1))\n",
    "        self.label_placeholder = tf.placeholder(tf.int64, shape=(None))\n",
    "        self.training_placeholder = tf.placeholder(tf.bool)\n",
    "        \n",
    "    def add_loss_op(self, pred):\n",
    "        '''\n",
    "        '''\n",
    "        y = self.label_placeholder\n",
    "        cross_entropy = tf.nn.softmax_cross_entropy_with_logits(\n",
    "            labels=tf.one_hot(y, self.num_classes),\n",
    "            logits = pred\n",
    "        )\n",
    "        loss = tf.reduce_mean(cross_entropy)\n",
    "        \n",
    "        correct_prediction = tf.equal(tf.argmax(pred, 1), y)\n",
    "        accuracy = tf.reduce_mean(tf.cast(correct_prediction, tf.float32))\n",
    "        \n",
    "        return loss, correct_prediction, accuracy\n",
    "        \n",
    "    def add_train_op(self, loss):\n",
    "        optimizer = tf.train.AdamOptimizer(learning_rate=self.lr)\n",
    "        \n",
    "        train_op = optimizer.minimize(loss)\n",
    "        return train_op\n",
    "    \n",
    "    def create_feed_dict(self, inputs_batch, labels_batch=None, is_training=True):\n",
    "        feed_dict = {\n",
    "            self.input_placeholder : inputs_batch,\n",
    "            self.training_placeholder : is_training,\n",
    "        }\n",
    "        if labels_batch is not None:\n",
    "            feed_dict[self.label_placeholder] = labels_batch\n",
    "        return feed_dict\n",
    "    \n",
    "    def train_on_batch(self, sess, inputs_batch, labels_batch=None, is_training=True):\n",
    "        feed = self.create_feed_dict(inputs_batch, labels_batch, is_training)\n",
    "        variables = [self.loss, self.corr, self.acc]\n",
    "        if is_training:\n",
    "            variables[-1] = self.train_op \n",
    "        loss, corr, _ = sess.run(variables, feed_dict=feed)\n",
    "        \n",
    "        return loss, corr\n",
    "    \n",
    "    def run_epoch(self, sess, batch_size, training_set, validation_set):\n",
    "        X_tr, Y_tr = training_set\n",
    "        \n",
    "        prog = Progbar(target=int(math.ceil(X_tr.shape[0] / batch_size)))\n",
    "        \n",
    "        for i, (train_x, train_y) in enumerate(load_mnist_data(X_tr, Y_tr, batch_size)):\n",
    "            loss, corr = self.train_on_batch(sess, train_x, train_y, True)\n",
    "            prog.update(i + 1, [('train_loss', loss), ('train_acc', np.sum(corr)/train_x.shape[0])])\n",
    "            \n",
    "        X_val, Y_val = validation_set\n",
    "            \n",
    "        prog = Progbar(target=int(math.ceil(X_val.shape[0] / batch_size)))\n",
    "        \n",
    "        hist_input = []\n",
    "        hist_pred = []\n",
    "        for i, (val_x, val_y) in enumerate(load_mnist_data(X_val, Y_val, batch_size, shuffle=False)):\n",
    "            loss, corr = self.train_on_batch(sess, val_x, val_y, is_training=False)\n",
    "            hist_input += val_x.tolist()\n",
    "            hist_pred += corr.tolist()\n",
    "            prog.update(i + 1, [('val_loss', loss), ('val_acc', np.sum(corr)/val_x.shape[0])])\n",
    "        self.hist = [(a,b) for a, b in zip(hist_input, hist_pred)]\n",
    "            \n",
    "    def fit(self, sess, epoches, batch_size, training_set, validation_set):\n",
    "        for e in range(epoches):\n",
    "            print(\"\\nEpoch {:} / {:}\".format(e + 1, epoches))\n",
    "            self.run_epoch(sess, batch_size, training_set, validation_set)\n",
    "            \n",
    "    def add_prediction_op(self):\n",
    "        '''\n",
    "        Return predictions\n",
    "        '''\n",
    "        is_training = self.training_placeholder\n",
    "        \n",
    "        x = self.input_placeholder\n",
    "        x = tf.contrib.layers.conv2d(\n",
    "            inputs=x,\n",
    "            num_outputs=10,\n",
    "            kernel_size=3,\n",
    "            padding='SAME',\n",
    "            activation_fn=None\n",
    "        ) # 28x28x10\n",
    "        x = tf.contrib.layers.batch_norm(\n",
    "            x,\n",
    "            is_training=is_training\n",
    "        )\n",
    "        x = tf.nn.relu(x)\n",
    "        x = tf.contrib.layers.max_pool2d(\n",
    "            inputs=x,\n",
    "            kernel_size=2,\n",
    "            stride=2,\n",
    "            padding='VALID'\n",
    "        ) # 14x14x10\n",
    "        \n",
    "        x = tf.contrib.layers.conv2d(\n",
    "            inputs=x,\n",
    "            num_outputs=20,\n",
    "            kernel_size=3,\n",
    "            padding='SAME',\n",
    "            activation_fn=None\n",
    "        ) # 14x14x20\n",
    "        x = tf.contrib.layers.batch_norm(\n",
    "            x,\n",
    "            is_training=is_training\n",
    "        )\n",
    "        x = tf.nn.relu(x)\n",
    "        x = tf.contrib.layers.max_pool2d(\n",
    "            inputs=x,\n",
    "            kernel_size=2,\n",
    "            stride=2,\n",
    "            padding='VALID'\n",
    "        ) # 7x7x20\n",
    "        \n",
    "        x = tf.contrib.layers.flatten(x)\n",
    "        \n",
    "        pred = tf.contrib.layers.fully_connected(\n",
    "            x,\n",
    "            self.num_classes,\n",
    "            activation_fn=None\n",
    "        )\n",
    "        return pred\n",
    "        \n",
    "        \n",
    "model = MNIST_model(10)"
   ]
  },
  {
   "cell_type": "markdown",
   "metadata": {},
   "source": [
    "# Loading the testing data"
   ]
  },
  {
   "cell_type": "code",
   "execution_count": 117,
   "metadata": {},
   "outputs": [
    {
     "name": "stdout",
     "output_type": "stream",
     "text": [
      "(10000, 28, 28, 1)\n",
      "(10000,)\n",
      "9\n"
     ]
    },
    {
     "data": {
      "image/png": "[encoded data removed]",
      "text/plain": [
       "<matplotlib.figure.Figure at 0x1f4059790b8>"
      ]
     },
     "metadata": {},
     "output_type": "display_data"
    }
   ],
   "source": [
    "test_data = load_data(os.path.join('data', 't10k-images-idx3-ubyte.gz'), num_images=10000)\n",
    "print(test_data.shape)\n",
    "test_labels = load_label(os.path.join('data', 't10k-labels-idx1-ubyte.gz'), num_images=10000)\n",
    "print(test_labels.shape)\n",
    "\n",
    "img = test_data[20].reshape(28,28)\n",
    "plt.imshow(img)\n",
    "print(test_labels[20])"
   ]
  },
  {
   "cell_type": "markdown",
   "metadata": {},
   "source": [
    "# Train the model"
   ]
  },
  {
   "cell_type": "code",
   "execution_count": 118,
   "metadata": {
    "collapsed": true
   },
   "outputs": [],
   "source": [
    "sess = tf.Session()\n",
    "sess.run(tf.global_variables_initializer())"
   ]
  },
  {
   "cell_type": "code",
   "execution_count": null,
   "metadata": {},
   "outputs": [
    {
     "name": "stdout",
     "output_type": "stream",
     "text": [
      "\n",
      "Epoch 1 / 1\n",
      "1290/1875 [===================>..........] - ETA: 733s - train_loss: 0.0620 - train_acc: 0.9809"
     ]
    }
   ],
   "source": [
    "model.fit(sess, 2, 16, (data, labels), (test_data, test_labels))"
   ]
  },
  {
   "cell_type": "markdown",
   "metadata": {},
   "source": [
    "# Take a look at the wrong predictions"
   ]
  },
  {
   "cell_type": "code",
   "execution_count": 109,
   "metadata": {},
   "outputs": [],
   "source": [
    "incorrect = [x[0] for i,x in enumerate(model.hist) if x[1] == False]"
   ]
  },
  {
   "cell_type": "code",
   "execution_count": 110,
   "metadata": {},
   "outputs": [
    {
     "data": {
      "text/plain": [
       "393"
      ]
     },
     "execution_count": 110,
     "metadata": {},
     "output_type": "execute_result"
    }
   ],
   "source": [
    "len(incorrect)"
   ]
  },
  {
   "cell_type": "code",
   "execution_count": 111,
   "metadata": {},
   "outputs": [
    {
     "name": "stdout",
     "output_type": "stream",
     "text": [
      "341\n"
     ]
    },
    {
     "data": {
      "text/plain": [
       "<matplotlib.image.AxesImage at 0x1f417d777b8>"
      ]
     },
     "execution_count": 111,
     "metadata": {},
     "output_type": "execute_result"
    },
    {
     "data": {
      "image/png": "[encoded data removed]",
      "text/plain": [
       "<matplotlib.figure.Figure at 0x1f483885710>"
      ]
     },
     "metadata": {},
     "output_type": "display_data"
    }
   ],
   "source": [
    "n = random.randint(0, len(incorrect))\n",
    "print(n)\n",
    "img = np.array(incorrect[n]).reshape(28,28)\n",
    "plt.imshow(img)"
   ]
  },
  {
   "cell_type": "code",
   "execution_count": null,
   "metadata": {
    "collapsed": true
   },
   "outputs": [],
   "source": []
  }
 ],
 "metadata": {
  "kernelspec": {
   "display_name": "Python 3",
   "language": "python",
   "name": "python3"
  },
  "language_info": {
   "codemirror_mode": {
    "name": "ipython",
    "version": 3
   },
   "file_extension": ".py",
   "mimetype": "text/x-python",
   "name": "python",
   "nbconvert_exporter": "python",
   "pygments_lexer": "ipython3",
   "version": "3.6.1"
  }
 },
 "nbformat": 4,
 "nbformat_minor": 2
}
